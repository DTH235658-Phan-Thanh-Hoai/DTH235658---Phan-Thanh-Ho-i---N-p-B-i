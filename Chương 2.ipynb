{
 "cells": [
  {
   "cell_type": "markdown",
   "id": "bfa94bc8",
   "metadata": {},
   "source": [
    "# CHƯƠNG 2(BÀI TẬP TRONG SÁCH)"
   ]
  },
  {
   "cell_type": "markdown",
   "id": "5ce883f5",
   "metadata": {},
   "source": [
    "## BÀI 1"
   ]
  },
  {
   "cell_type": "code",
   "execution_count": null,
   "id": "1a825d3c",
   "metadata": {},
   "outputs": [],
   "source": [
    "#Tính lãi suất sau 18 tháng\n",
    "a = float(input(\"Nhập số tiền của người A: \"))\n",
    "laisuat = 0.6/100\n",
    "sothang = 18\n",
    "for i in range(6, sothang+1, 6):\n",
    "    lai = a * laisuat * 6\n",
    "    a = a + lai\n",
    "print(\"Tổng số tiền của người A sau 18 tháng là: \", a)"
   ]
  },
  {
   "cell_type": "markdown",
   "id": "721b4fcf",
   "metadata": {},
   "source": [
    "## BÀI 2"
   ]
  },
  {
   "cell_type": "code",
   "execution_count": null,
   "id": "8aa074b0",
   "metadata": {},
   "outputs": [],
   "source": [
    "#Tính a + b, a - b, a * b, a / b\n",
    "a = float(input(\"Nhập số a: \"))\n",
    "b = float(input(\"Nhập số b: \"))\n",
    "ch = input(\"Nhập ký tự ch: \")\n",
    "if( ch == '+'):\n",
    "    print(\"Kết quả là: \", a + b)\n",
    "elif( ch == '_'):\n",
    "    print(\"Kết quả là: \", a - b)\n",
    "elif(ch == '*'):\n",
    "    print(\"Kết quả là: \", a * b)\n",
    "elif(ch == '/'):\n",
    "    print(\"Kết quả là: \", a / b)\n",
    "else:\n",
    "    print(\"Ký tự ch không phải là một toán tử!\")"
   ]
  },
  {
   "cell_type": "markdown",
   "id": "e52cc8e9",
   "metadata": {},
   "source": [
    "## BÀI 3"
   ]
  },
  {
   "cell_type": "code",
   "execution_count": null,
   "id": "68898ccb",
   "metadata": {},
   "outputs": [],
   "source": [
    "#Tính chu vi và diện tích hình tròn\n",
    "import math\n",
    "try:\n",
    "    r  = float(input(\"Nhập bán kính hình tròn: \"))\n",
    "    cv = 2 * math.pi * r\n",
    "    dt = math.pi * r * r\n",
    "    print(\"Chu vi hình tròn là: \", cv)\n",
    "    print(\"Diện tích hình tròn là: \", dt)\n",
    "except:\n",
    "    print(\"Lỗi rồi!\")"
   ]
  },
  {
   "cell_type": "markdown",
   "id": "243598ba",
   "metadata": {},
   "source": [
    "## BÀI 4"
   ]
  },
  {
   "cell_type": "code",
   "execution_count": null,
   "id": "90cf9cc6",
   "metadata": {},
   "outputs": [],
   "source": [
    "#Tính số ngày trong tháng\n",
    "n = 0\n",
    "while True:\n",
    "    n = int(input(\"Nhập vào một tháng(1-12): \"))\n",
    "    if n < 1 or n > 12:\n",
    "        print(\"Nhập sai! Nhập lại\")\n",
    "    else:\n",
    "        break\n",
    "if n in [1, 3, 5, 7, 8, 10, 12]:\n",
    "    print(\"Tháng\", n,\"có 31 ngày\")\n",
    "elif n in [4, 6, 9, 11]:\n",
    "    print(\"Tháng\", n,\"có 30 ngày\")\n",
    "else:\n",
    "    nam = int(input(\"Nhập vào một năm: \"))\n",
    "    if(nam % 4 == 0 and nam % 100 !=0) or (nam % 400 == 0):\n",
    "        print(\"Tháng 2 năm\", nam,\"có 29 ngày\")\n",
    "    else:\n",
    "        print(\"Tháng 2 năm\", nam,\"có 28 ngày\")"
   ]
  },
  {
   "cell_type": "markdown",
   "id": "932e3e1e",
   "metadata": {},
   "source": [
    "## BÀI 5"
   ]
  },
  {
   "cell_type": "code",
   "execution_count": null,
   "id": "d36c7a06",
   "metadata": {},
   "outputs": [],
   "source": [
    "#Đọc số có tối đa 2 chữ số\n",
    "n = 0\n",
    "while True:\n",
    "    n = int(input(\"Nhập số nguyên n có tối đa 2 chữ số: \"))\n",
    "    if n < 0 or n > 99:\n",
    "        print(\"Nhập sai! Nhập lại\")\n",
    "    else:\n",
    "        break\n",
    "so = [\"không\", \"một\", \"hai\", \"ba\", \"bốn\", \"năm\", \"sáu\", \"bảy\", \"tám\", \"chín\"]\n",
    "chuc = [\"\",\"mười\", \"hai mươi\", \"ba mươi\", \"bốn mươi\", \"năm mươi\", \"súa mươi\", \"bảy mươi\", \"tám mươi\", \"chín mươi\"]\n",
    "if n < 10:\n",
    "    print(so[n])\n",
    "else:\n",
    "    donvi = n % 10\n",
    "    hangchuc = n // 10\n",
    "    if donvi == 1:\n",
    "        print(chuc[hangchuc], \"mốt\")\n",
    "    elif donvi == 5:\n",
    "        print(chuc[hangchuc], \"lăm\")\n",
    "    elif donvi == 0:\n",
    "        print(chuc[hangchuc])\n",
    "    else:\n",
    "        print(chuc[hangchuc], so[donvi])"
   ]
  },
  {
   "cell_type": "markdown",
   "id": "6cfda454",
   "metadata": {},
   "source": [
    "## BÀI 6"
   ]
  },
  {
   "cell_type": "code",
   "execution_count": null,
   "id": "c3ddebc2",
   "metadata": {},
   "outputs": [],
   "source": [
    "#Giải phương trình bậc hai\n",
    "import math\n",
    "def TinhPhuongTrinhBacHai(a, b, c):\n",
    "    if a == 0:\n",
    "        if b == 0:\n",
    "            if c == 0:\n",
    "                print(\"Phương trình có vô số nghiệm!\")\n",
    "            else:\n",
    "                print(\"Phương trình vô nghiệm!\")\n",
    "        else:\n",
    "            print(\"Phương trình có một nghiệm: x =\", -c/b)\n",
    "    else:\n",
    "        delta = b*b - 4 * a * c \n",
    "        if delta < 0:\n",
    "            print(\"Phương trình vô nghiệm!\")\n",
    "        elif delta == 0:\n",
    "            print(\"Phương trình có nghiệm kép: x1 = x2 =\", -b/(2*a))\n",
    "        else:\n",
    "            x1 = (-b + math.sqrt(delta)) / (2*a)\n",
    "            x2 = (-b - math.sqrt(delta)) / (2*a)\n",
    "            print(\"Phương trình có hai nghiệm phân biệt: x1 =\", x1,\" x2 =\", x2)\n",
    "\n",
    "a = float(input(\"Nhập hệ số a: \"))\n",
    "b = float(input(\"Nhập hệ số b: \"))\n",
    "c = float(input(\"Nhập hệ số c: \"))\n",
    "print(\"Kết quả chương tình:\")\n",
    "TinhPhuongTrinhBacHai(a, b, c)"
   ]
  },
  {
   "cell_type": "markdown",
   "id": "71665a0f",
   "metadata": {},
   "source": [
    "## BÀI 7"
   ]
  },
  {
   "cell_type": "code",
   "execution_count": null,
   "id": "2a2f4f89",
   "metadata": {},
   "outputs": [],
   "source": [
    "#Tính n + n2 + n3\n",
    "n = int(input(\"Nhập số nguyên n: \"))\n",
    "a = n + n*2 + n*3\n",
    "print(\"Kết quả là: \", a)"
   ]
  },
  {
   "cell_type": "markdown",
   "id": "9d7098a7",
   "metadata": {},
   "source": [
    "## BÀI 8"
   ]
  },
  {
   "cell_type": "code",
   "execution_count": null,
   "id": "4d3dcccf",
   "metadata": {},
   "outputs": [],
   "source": [
    "#Bảng cửu chương (1 < n < 9)\n",
    "def TinhBangCuuChuong(n):\n",
    "    for i in range(1, 11, 1):\n",
    "        print(f\"{n} x {i} = {n*i}\")\n",
    "n = 0\n",
    "while True:\n",
    "    n = int(input(\"Nhập bảng cửu chương (1 < n < 9): \"))\n",
    "    if n < 1 or n > 9:\n",
    "        print(\"Nhập sai! Nhập lại!\")\n",
    "    else:\n",
    "        break\n",
    "TinhBangCuuChuong(n)"
   ]
  },
  {
   "cell_type": "markdown",
   "id": "90403da6",
   "metadata": {},
   "source": [
    "## BÀI 9"
   ]
  },
  {
   "cell_type": "code",
   "execution_count": null,
   "id": "0f25fd68",
   "metadata": {},
   "outputs": [],
   "source": [
    "#Tính các tổng\n",
    "n = int(input(\"Nhập số nguyên n: \"))\n",
    "S1, S2, S3, S4, S5 = 0, 0, 0, 0, 0\n",
    "\n",
    "print(\"- S = 1 + 2 + ... + n\")\n",
    "for i in range(1, n + 1, 1):\n",
    "    S1 = S1 + i\n",
    "print(\"Kết quả S =\", S1)\n",
    "\n",
    "print(\"- S = 1 + 3 + ... + (2n - 1)\")\n",
    "for i in range(1, n + 1, 1):\n",
    "    S2 = S2 + (2*i - 1)\n",
    "print(\"Kết quả S =\", S2)\n",
    "\n",
    "print(\"- S = 2 + 4 + ... + 2n\")\n",
    "for i in range(1, n + 1, 1):\n",
    "    S3 = S3 + 2*i\n",
    "print(\"Kết quả S =\", S3)\n",
    "\n",
    "print(\"- S = 1^2 + 2^2 + ... + n^2\")\n",
    "for i in range(1, n + 1, 1):\n",
    "    S4 = S4 + i*i\n",
    "print(\"Kết quả S =\", S4)\n",
    "\n",
    "print(\"- S = 1/1 + 1/2 + ... + 1/n\")\n",
    "for i in range(1, n + 1, 1):\n",
    "    S5 = S5 + 1/i\n",
    "print(\"Kết quả S =\", S5)"
   ]
  },
  {
   "cell_type": "markdown",
   "id": "93bc7f97",
   "metadata": {},
   "source": [
    "## BÀI 10"
   ]
  },
  {
   "cell_type": "code",
   "execution_count": null,
   "id": "5e1d5f41",
   "metadata": {},
   "outputs": [],
   "source": [
    "#In bảng cửu chương từ 2 đến 9\n",
    "for i in range(1, 11, 1):\n",
    "    for j in range(2, 10, 1):\n",
    "        print(f\"{j} x {i} = {i * j}\", end=\"\\t\")\n",
    "    print()"
   ]
  },
  {
   "cell_type": "markdown",
   "id": "72985e2d",
   "metadata": {},
   "source": [
    "## BÀI 11"
   ]
  },
  {
   "cell_type": "code",
   "execution_count": null,
   "id": "08885749",
   "metadata": {},
   "outputs": [],
   "source": [
    "#Tính S(x,n) = x + x^2/2! + x^3/3! + ... + x^n/n!\n",
    "def GiaiThua(n):\n",
    "    if n == 0 or n == 1:\n",
    "        return 1\n",
    "    else:\n",
    "        return n * GiaiThua(n - 1)\n",
    "\n",
    "def S(x, n):\n",
    "    Sum = 0\n",
    "    for i in range(1, n + 1, 1):\n",
    "        Sum = Sum + (x**i /GiaiThua(i) )\n",
    "    return Sum\n",
    "\n",
    "x = int(input(\"Nhập số nguyên x: \"))\n",
    "n = int(input(\"Nhập số nguyên n: \"))\n",
    "print(\"Kết quả S(x,n) =\", S(x, n)) \n"
   ]
  },
  {
   "cell_type": "markdown",
   "id": "573101e1",
   "metadata": {},
   "source": [
    "## BÀI 12"
   ]
  },
  {
   "cell_type": "code",
   "execution_count": null,
   "id": "b1cc2f48",
   "metadata": {},
   "outputs": [],
   "source": [
    "# Đổi số nguyên hệ thập phân sang số nhị phân\n",
    "n = int(input(\"Nhập số nguyên hệ thập phân: \"))\n",
    "print(\"Số nhị phân là:\", bin(n)[2:])"
   ]
  },
  {
   "cell_type": "markdown",
   "id": "a4333972",
   "metadata": {},
   "source": [
    "## BÀI 13"
   ]
  },
  {
   "cell_type": "code",
   "execution_count": null,
   "id": "87b35895",
   "metadata": {},
   "outputs": [],
   "source": [
    "#Giải phương trình bậc hai với điều kiện a khác 0\n",
    "import math\n",
    "def Nhap():\n",
    "    while True:\n",
    "        a = float(input(\"Nhập hệ số a: \"))\n",
    "        if a !=0:\n",
    "            return a\n",
    "        else:\n",
    "            print(\"Hệ số a khoong được bằng không! Nhập lại!\")\n",
    "\n",
    "def TinhPhuongTrinhBacHai(a, b, c):\n",
    "    delta = b*b - 4 * a * c \n",
    "    if delta < 0:\n",
    "         print(\"Phương trình vô nghiệm!\")\n",
    "    elif delta == 0:\n",
    "        print(\"Phương trình có nghiệm kép: x1 = x2 =\", -b/(2*a))\n",
    "    else:\n",
    "        x1 = (-b + math.sqrt(delta)) / (2*a)\n",
    "        x2 = (-b - math.sqrt(delta)) / (2*a)\n",
    "        print(\"Phương trình có hai nghiệm phân biệt: x1 =\", x1,\" x2 =\", x2)\n",
    "\n",
    "a = Nhap()\n",
    "b = float(input(\"Nhập hệ số b: \"))\n",
    "c = float(input(\"Nhập hệ số c: \"))\n",
    "print(\"Kết quả chương tình:\")\n",
    "TinhPhuongTrinhBacHai(a, b, c)"
   ]
  },
  {
   "cell_type": "markdown",
   "id": "7dc67bde",
   "metadata": {},
   "source": [
    "## BÀI 14"
   ]
  },
  {
   "cell_type": "code",
   "execution_count": null,
   "id": "80720e17",
   "metadata": {},
   "outputs": [],
   "source": [
    "# Giả sử bạn đến đảo vào thứ Tư (ngày thứ 3 trong tuần, nếu tính từ 0: Chủ nhật)\n",
    "# Sau 137 đêm, bạn về nhà vào ngày thứ mấy?\n",
    "\n",
    "\n",
    "DanhSachThu = [\"Chủ nhật\", \"Thứ hai\", \"Thứ ba\", \"Thứ tư\", \"Thứ năm\", \"Thứ sáu\", \"Thứ bảy\"]\n",
    "SoDem = 137\n",
    "\n",
    "ThuBatDau = 3 \n",
    "ThuVe = (ThuBatDau + SoDem) % 7\n",
    "\n",
    "print(\"Bạn về nhà vào:\", DanhSachThu[ThuVe])"
   ]
  },
  {
   "cell_type": "markdown",
   "id": "7d2c8704",
   "metadata": {},
   "source": [
    "## BÀI 15"
   ]
  },
  {
   "cell_type": "code",
   "execution_count": null,
   "id": "90a0a555",
   "metadata": {},
   "outputs": [],
   "source": [
    "#Kiểm tra 3 số a, b, c có thể tạo thành một tam giác hay không\n",
    "def KiemTraTamGiac(a, b, c):\n",
    "    if (a + b > c) and (a + c > b) and (b + c > a):\n",
    "        print(\"Có thể tạo thành một tam giác\")\n",
    "    else:\n",
    "        print(\"Không thể tạo thành một tam giác\")\n",
    "\n",
    "a , b, c = 0, 0, 0\n",
    "while True:\n",
    "    a, b, c = map(float, input(\"Nhập ba số dương a, b, c: \").split(','))\n",
    "    if a > 0 and b > 0 and c > 0:\n",
    "            break\n",
    "    else:\n",
    "         print(\"Tất cả phải là số dương! Nhập lại!\")\n",
    "\n",
    "KiemTraTamGiac(a, b, c)"
   ]
  },
  {
   "cell_type": "markdown",
   "id": "cd2954f9",
   "metadata": {},
   "source": [
    "## BÀI 16"
   ]
  },
  {
   "cell_type": "code",
   "execution_count": null,
   "id": "d71fa313",
   "metadata": {},
   "outputs": [],
   "source": [
    "# Nhập ngày, tháng, năm từ bàn phím và kiểm tra hợp lệ\n",
    "\n",
    "def KiemTraNgayHopLe(day, month, year):\n",
    "    if year < 1 or month < 1 or month > 12 or day < 1:\n",
    "        return False\n",
    "    \n",
    "    days_in_month = [31, 28, 31, 30, 31, 30, 31, 31, 30, 31, 30, 31]\n",
    "    \n",
    "    if (year % 4 == 0 and year % 100 != 0) or (year % 400 == 0):\n",
    "        days_in_month[1] = 29\n",
    "    if day > days_in_month[month - 1]:\n",
    "        return False\n",
    "    return True\n",
    "\n",
    "\n",
    "day = int(input(\"Nhập ngày: \"))\n",
    "month = int(input(\"Nhập tháng: \"))\n",
    "year = int(input(\"Nhập năm: \"))\n",
    "\n",
    "if KiemTraNgayHopLe(day, month, year):\n",
    "    print(\"Ngày tháng năm hợp lệ.\")\n",
    "else:\n",
    "    print(\"Ngày tháng năm không hợp lệ.\")"
   ]
  },
  {
   "cell_type": "markdown",
   "id": "f4677f47",
   "metadata": {},
   "source": [
    "## BÀI 17"
   ]
  },
  {
   "cell_type": "code",
   "execution_count": null,
   "id": "beca1752",
   "metadata": {},
   "outputs": [],
   "source": [
    "# Tính các tổng\n",
    "def NhapSoTuNhien():\n",
    "    while True:\n",
    "        n = int(input(\"Nhập số tự nhiên (n>=0): \"))\n",
    "        if n >= 0:\n",
    "            return n\n",
    "        else:\n",
    "            print(\"Không phải số tự nhiên! Nhập lại!\")\n",
    "\n",
    "def TinhTong(n):\n",
    "    tong = 1\n",
    "    for i in range(1, n+1, 1):\n",
    "        tong = tong + 2*i\n",
    "    return tong\n",
    "\n",
    "def TinhTongCacSoLe(n):\n",
    "    tong = 0\n",
    "    for i in range(1, n , 1):\n",
    "        if i % 2 != 0:\n",
    "            tong = tong + i\n",
    "    return tong\n",
    "\n",
    "def TinhTongCacSoChan(n):\n",
    "    tong = 0\n",
    "    for i in range(1, n , 1):\n",
    "        if i % 2 == 0:\n",
    "            tong = tong + i\n",
    "    return tong\n",
    "\n",
    "n = NhapSoTuNhien()\n",
    "print(\"Câu a) Tổng S =\", TinhTong(n))\n",
    "print(\"Câu b) Tổng các số lẻ\", TinhTongCacSoLe(n))\n",
    "print(\"Câu c) Tổng các số chẵn\", TinhTongCacSoChan(n))\n"
   ]
  },
  {
   "cell_type": "markdown",
   "id": "76c56712",
   "metadata": {},
   "source": [
    "## BÀI 18"
   ]
  },
  {
   "cell_type": "code",
   "execution_count": null,
   "id": "bf838055",
   "metadata": {},
   "outputs": [],
   "source": [
    "# Tính các tổng đặc biệt\n",
    "import math\n",
    "\n",
    "def NhapSoTuNhien():\n",
    "    while True:\n",
    "        n = int(input(\"Nhập số tự nhiên (n>=0): \"))\n",
    "        if n >= 0:\n",
    "            return n\n",
    "        else:\n",
    "            print(\"Không phải số tự nhiên! Nhập lại!\")\n",
    "\n",
    "def KiemTraSoNguyenTo(n):\n",
    "    if n < 2:\n",
    "        return False\n",
    "    for i in range(2, int(math.sqrt(n)) + 1):\n",
    "        if n % i == 0:\n",
    "            return False\n",
    "    return True\n",
    "\n",
    "def TongCacSoNguyenTo(n):\n",
    "    tong = 0\n",
    "    for i in range(2, n + 1, 1):\n",
    "        if KiemTraSoNguyenTo(i):\n",
    "            tong = tong + i\n",
    "    return tong\n",
    "\n",
    "def TongCacSoThucSu(n):\n",
    "    tong = 0\n",
    "    for i in range(1, n , 1):\n",
    "        if n % i == 0:\n",
    "            tong = tong + i\n",
    "    return tong\n",
    "\n",
    "def TinhTong(n):\n",
    "    tong = 0\n",
    "    i = 12\n",
    "    for i in range(12, n + 1, 10):\n",
    "        tong = tong + i\n",
    "    if i == n:\n",
    "        return tong\n",
    "    else:\n",
    "        return tong + n\n",
    "\n",
    "n = NhapSoTuNhien()\n",
    "print(\"Câu a) Tổng các số nguyên tố từ 1 đến n là:\", TongCacSoNguyenTo(n))\n",
    "print(\"Câu b) Tổng các ước số thực sự của n là:\", TongCacSoThucSu(n))\n",
    "print(\"Câu c) Tổng các số có dạng 12 + 22 + 32 + ... + n là:\", TinhTong(n))\n"
   ]
  },
  {
   "cell_type": "markdown",
   "id": "f83f81f4",
   "metadata": {},
   "source": [
    "## BÀI 19"
   ]
  },
  {
   "cell_type": "code",
   "execution_count": null,
   "id": "f75892e6",
   "metadata": {},
   "outputs": [],
   "source": [
    "#Viết chương trình thực hiện các yêu cầu sau:\n",
    "import math\n",
    "\n",
    "def KiemTraSoNguyenTo(n):\n",
    "    if n < 2:\n",
    "        return False\n",
    "    for i in range(2, int(math.sqrt(n)) + 1):\n",
    "        if n % i == 0:\n",
    "            return False\n",
    "    return True\n",
    "\n",
    "def NhapSoTuNhien():\n",
    "    while True:\n",
    "        n = int(input())\n",
    "        if n >= 0:\n",
    "            return n\n",
    "        else:\n",
    "            print(\"Không phải số tự nhiên! Nhập lại!\")\n",
    "\n",
    "def TinhTong(n):\n",
    "    tong = 0\n",
    "    for i in range(1, n + 1, 1):\n",
    "        tong = tong + i\n",
    "    return tong\n",
    "\n",
    "def KiemTra2SoNguyenTo(m, n):\n",
    "    if KiemTraSoNguyenTo(m) and KiemTraSoNguyenTo(n):\n",
    "        print(\"Hai số ngày là hai số nguyên tố cùng nhau\")\n",
    "    else:\n",
    "        print(\"Hai số này không phải là hai số nguyên tố cùng nhau\")\n",
    "\n",
    "def TinhGioGiayPhut(s):\n",
    "    gio = s // 3600\n",
    "    phut = (s % 3600) // 60\n",
    "    giay = s % 60\n",
    "    print(f\"{s} giây = {gio} giờ, {phut} phút, {giay} giây\")\n",
    "\n",
    "def TinhGiaTriTuyetDoi(a, b):\n",
    "    return abs(a - b)\n",
    "\n",
    "print(\"--Câu a)\")\n",
    "print(\"Nhập số tự nhiên n:\")\n",
    "n = NhapSoTuNhien()\n",
    "print(\"Tổng các số từ 1 đến n là:\", TinhTong(n))\n",
    "\n",
    "print(\"\\n--Câu b)\")\n",
    "print(\"Nhập hai số tự nhiên m:\")\n",
    "m1 = NhapSoTuNhien()\n",
    "print(\"Nhập số tự nhiên n:\")\n",
    "m2 = NhapSoTuNhien()\n",
    "KiemTra2SoNguyenTo(m1, m2)\n",
    "\n",
    "print(\"\\n--Câu c)\")\n",
    "s = int(input(\"Nhập số giây: \"))\n",
    "TinhGioGiayPhut(s)\n",
    "\n",
    "print(\"\\n--Câu d)\")\n",
    "a = float(input(\"Nhập số thực a: \"))\n",
    "b = float(input(\"Nhập số thực b: \"))\n",
    "print(\"Giá trị tuyệt đối của |a - b| là:\", TinhGiaTriTuyetDoi(a, b))"
   ]
  },
  {
   "cell_type": "markdown",
   "id": "d61645c7",
   "metadata": {},
   "source": [
    "## BÀI 20"
   ]
  },
  {
   "cell_type": "code",
   "execution_count": null,
   "id": "8a635566",
   "metadata": {},
   "outputs": [],
   "source": [
    "# Viết hàm f(m,n) trong đó m, n là hai số tự nhiên dương. Hàm trả về số nguyên tố lớn nhất\n",
    "import math\n",
    "\n",
    "def NhapSoTuNhien():\n",
    "    while True:\n",
    "        n = int(input())\n",
    "        if n >= 0:\n",
    "            return n\n",
    "        else:\n",
    "            print(\"Không phải số tự nhiên! Nhập lại!\")\n",
    "\n",
    "def KiemTraSoNguyenTo(n):\n",
    "    if n < 2:\n",
    "        return False\n",
    "    for i in range(2, int(math.sqrt(n)) + 1):\n",
    "        if n % i == 0:\n",
    "            return False\n",
    "    return True\n",
    "\n",
    "def f(m,n):\n",
    "    ucln = math.gcd(m,n)\n",
    "\n",
    "    if ucln <= 1:\n",
    "        return 0\n",
    "    \n",
    "    NguyenTo_LonNhat = 0\n",
    "    for i in range(2, ucln + 1, 1):\n",
    "        if ucln % i == 0 and KiemTraSoNguyenTo(i):\n",
    "            NguyenTo_LonNhat = i\n",
    "    \n",
    "    return NguyenTo_LonNhat\n",
    "    \n",
    "print(\"Nhập số tự nhiên m:\")\n",
    "m = NhapSoTuNhien()\n",
    "print(\"Nhập số tự nhiên n:\")\n",
    "n = NhapSoTuNhien()\n",
    "\n",
    "print(\"Kết quả f(m,n) =\", f(m,n))\n"
   ]
  },
  {
   "cell_type": "markdown",
   "id": "8d4dc2f0",
   "metadata": {},
   "source": [
    "# CHƯƠNG 2(BÀI TẬP TRÊN MOODLE)"
   ]
  },
  {
   "cell_type": "markdown",
   "id": "0708627b",
   "metadata": {},
   "source": [
    "## BÀI 1"
   ]
  },
  {
   "cell_type": "code",
   "execution_count": null,
   "id": "15f60a59",
   "metadata": {},
   "outputs": [],
   "source": [
    "#Tính chu vi và diện tích hình tròn\n",
    "import math\n",
    "try:\n",
    "    r  = float(input(\"Nhập bán kính hình tròn: \"))\n",
    "    cv = 2 * math.pi * r\n",
    "    dt = math.pi * r * r\n",
    "    print(\"Chu vi hình tròn là: \", cv)\n",
    "    print(\"Diện tích hình tròn là: \", dt)\n",
    "except:\n",
    "    print(\"Lỗi rồi!\")"
   ]
  },
  {
   "cell_type": "markdown",
   "id": "58296be9",
   "metadata": {},
   "source": [
    "## BÀI 2"
   ]
  },
  {
   "cell_type": "code",
   "execution_count": null,
   "id": "4f248604",
   "metadata": {},
   "outputs": [],
   "source": [
    "#Tính giờ phút giây\n",
    "t = int(input(\"Nhập số giây: \"))\n",
    "gio = (t//3600) % 24\n",
    "phut = (t % 3600) // 60\n",
    "giay = t % 60\n",
    "print(gio, \"giờ\", phut, \"phút\", giay, \"giây\")"
   ]
  },
  {
   "cell_type": "markdown",
   "id": "b5fc7e5d",
   "metadata": {},
   "source": [
    "## BÀI 3"
   ]
  },
  {
   "cell_type": "code",
   "execution_count": null,
   "id": "8709e17e",
   "metadata": {},
   "outputs": [],
   "source": [
    "#Chương trình tính điểm trung bình ba môn Toán, Lý Hóa\n",
    "toan = float(input(\"Nhập điểm môn Toán: \"))\n",
    "ly = float(input(\"Nhập điểm môn Lý: \"))\n",
    "hoa = float(input(\"Nhập điểm môn Hóa: \"))\n",
    "dtb = (toan + ly + hoa) / 3\n",
    "print(\"Điểm trung bình ba môn là:\", dtb)\n",
    "print(\"Điểm trung bình ba môn là:\", round(dtb, 2))"
   ]
  },
  {
   "cell_type": "markdown",
   "id": "ad619dc3",
   "metadata": {},
   "source": [
    "## BÀI 4"
   ]
  },
  {
   "cell_type": "code",
   "execution_count": null,
   "id": "837e0238",
   "metadata": {},
   "outputs": [],
   "source": [
    "# Câu 4: Python hỗ trợ những kiểu dữ liệu cơ bản nào?\n",
    "# - int (số nguyên)\n",
    "# - float (số thực)\n",
    "# - complex (số phức)\n",
    "# - bool (đúng/sai)\n",
    "# - str (chuỗi ký tự)\n",
    "# - list (danh sách)\n",
    "# - tuple (bộ giá trị)\n",
    "# - set (tập hợp)\n",
    "# - dict (từ điển - cặp key:value)\n",
    "\n",
    "a = 10        # int\n",
    "b = 3.14      # float\n",
    "c = 2 + 3j    # complex\n",
    "d = True      # bool\n",
    "e = \"Hello\"   # str\n",
    "f = [1,2,3]   # list\n",
    "g = (1,2,3)   # tuple\n",
    "h = {1,2,3}   # set\n",
    "i = {\"a\":1, \"b\":2}  # dict"
   ]
  },
  {
   "cell_type": "markdown",
   "id": "ba26281b",
   "metadata": {},
   "source": [
    "## BÀI 5"
   ]
  },
  {
   "cell_type": "code",
   "execution_count": null,
   "id": "84c80805",
   "metadata": {},
   "outputs": [],
   "source": [
    "# Câu 5: Trình bày các loại ghi chú trong Python.\n",
    "# - Ghi chú 1 dòng: dùng ký hiệu #\n",
    "# - Ghi chú nhiều dòng: dùng chuỗi \"\"\"...\"\"\" hoặc '''...'''\n",
    "\n",
    "# Đây là ghi chú 1 dòng\n",
    "\"\"\"\n",
    "Đây là\n",
    "ghi chú\n",
    "nhiều dòng\n",
    "\"\"\""
   ]
  },
  {
   "cell_type": "markdown",
   "id": "ba10fc19",
   "metadata": {},
   "source": [
    "## BÀI 6"
   ]
  },
  {
   "cell_type": "code",
   "execution_count": null,
   "id": "1a8c7d18",
   "metadata": {},
   "outputs": [],
   "source": [
    "# Câu 6: Trình bày ý nghĩa toán tử /, //, %, **, and, or, is.\n",
    "x, y = 7, 3\n",
    "print(x / y)   # / : chia thực (kết quả float) -> 2.333...\n",
    "print(x // y)  # //: chia lấy phần nguyên -> 2\n",
    "print(x % y)   # % : chia lấy dư -> 1\n",
    "print(x ** y)  # **: lũy thừa -> 7^3 = 343\n",
    "print(True and False) # and: logic AND -> False\n",
    "print(True or False)  # or : logic OR -> True\n",
    "print(x is y)  # is : so sánh 2 biến có cùng tham chiếu không"
   ]
  },
  {
   "cell_type": "markdown",
   "id": "96c12b82",
   "metadata": {},
   "source": [
    "## BÀI 7"
   ]
  },
  {
   "cell_type": "code",
   "execution_count": null,
   "id": "5d8bcd3b",
   "metadata": {},
   "outputs": [],
   "source": [
    "# Câu 7: Trình bày một số cách nhập dữ liệu từ bàn phím.\n",
    "# input() luôn trả về kiểu str, cần ép kiểu nếu cần số.\n",
    "name = input(\"Nhập tên: \")\n",
    "age = int(input(\"Nhập tuổi: \"))\n",
    "score = float(input(\"Nhập điểm: \"))\n",
    "print(\"Tên:\", name, \"- Tuổi:\", age, \"- Điểm:\", score)"
   ]
  },
  {
   "cell_type": "markdown",
   "id": "84c59c14",
   "metadata": {},
   "source": [
    "## BÀI 8"
   ]
  },
  {
   "cell_type": "code",
   "execution_count": null,
   "id": "38c55826",
   "metadata": {},
   "outputs": [],
   "source": [
    "# Câu 8: Trình bày các loại lỗi khi lập trình và cách bắt lỗi trong Python.\n",
    "# - SyntaxError: sai cú pháp\n",
    "# - NameError: dùng biến chưa khai báo\n",
    "# - TypeError: sai kiểu dữ liệu\n",
    "# - ValueError: giá trị không hợp lệ\n",
    "# - ZeroDivisionError: chia cho 0\n",
    "# Có thể bắt lỗi bằng try-except\n",
    "\n",
    "try:\n",
    "    a = int(\"abc\")  # gây ValueError\n",
    "except ValueError:\n",
    "    print(\"Lỗi: không thể chuyển đổi chuỗi thành số nguyên\")"
   ]
  },
  {
   "cell_type": "markdown",
   "id": "da625c46",
   "metadata": {},
   "source": [
    "## BÀI 9"
   ]
  },
  {
   "cell_type": "code",
   "execution_count": null,
   "id": "8b6090b5",
   "metadata": {},
   "outputs": [],
   "source": [
    "# Câu 9: Giải thích kết quả tính toán của các biểu thức\n",
    "i1, i2, i3 = 2, 5, -3\n",
    "d1, d2, d3 = 2.0, 5.0, -0.5\n",
    "\n",
    "print(i1 + (i2 * i3))     # a) 2 + (5 * -3) = -13\n",
    "print(i1 * (i2 + i3))     # b) 2 * (5 + -3) = 4\n",
    "print(i1 / (i2 + i3))     # c) 2 / (5 + -3) = 1.0\n",
    "print(i1 // (i2 + i3))    # d) 2 // 2 = 1\n",
    "print(i1 / i2 + i3)       # e) (2/5) + (-3) = -2.6\n",
    "print(i1 // i2 + i3)      # f) (0) + (-3) = -3\n",
    "print(3 + 4 + 5 / 3)      # g) 3+4+(5/3)=8.666...\n",
    "print(3 + 4 + 5 // 3)     # h) 3+4+(1)=8\n",
    "print((3 + 4 + 5) / 3)    # i) 12/3=4.0\n",
    "print((3 + 4 + 5) // 3)   # j) 12//3=4\n",
    "print(d1 + (d2 * d3))     # k) 2.0 + (5.0 * -0.5) = -0.5\n",
    "print(d1 + d2 * d3)       # l) giống k, do ưu tiên * trước + = -0.5\n",
    "print(d1 / d2 - d3)       # m) (2/5) - (-0.5) = 0.9\n",
    "print(d1 / (d2 - d3))     # n) 2 / (5 - -0.5) = 0.3636...\n",
    "print(d1 + d2 + d3 / 3)   # o) 2+5+(-0.5/3)=6.833...\n",
    "print((d1 + d2 + d3) / 3) # p) (2+5-0.5)/3=2.166...\n",
    "print(d1 + d2 + (d3 / 3)) # q) 2+5+(-0.5/3)=6.833..\n",
    "print(3 * (d1 + d2) * (d1 - d3)) # r) 3*(7.0)*(2.5)=52.5"
   ]
  },
  {
   "cell_type": "markdown",
   "id": "b149b259",
   "metadata": {},
   "source": [
    "## BÀI 10"
   ]
  },
  {
   "cell_type": "code",
   "execution_count": null,
   "id": "87b2876d",
   "metadata": {},
   "outputs": [],
   "source": [
    "# Câu 10: Hãy viết ngắn gọn lại các lệnh dưới đây\n",
    "\n",
    "# (a) x = x + 1\n",
    "x += 1\n",
    "\n",
    "# (b) x = x / 2\n",
    "x /= 2\n",
    "\n",
    "# (c) x = x - 1\n",
    "x -= 1\n",
    "\n",
    "# (d) x = x + y\n",
    "x += y\n",
    "\n",
    "# (e) x = x - (y + 7)\n",
    "x -= (y + 7)\n",
    "\n",
    "# (f) x = 2 * x\n",
    "x *= 2\n",
    "\n",
    "# (g) number_of_closed_cases = number_of_closed_cases + 2 * ncc\n",
    "number_of_closed_cases += 2 * ncc"
   ]
  }
 ],
 "metadata": {
  "kernelspec": {
   "display_name": "Python 3",
   "language": "python",
   "name": "python3"
  },
  "language_info": {
   "codemirror_mode": {
    "name": "ipython",
    "version": 3
   },
   "file_extension": ".py",
   "mimetype": "text/x-python",
   "name": "python",
   "nbconvert_exporter": "python",
   "pygments_lexer": "ipython3",
   "version": "3.13.7"
  }
 },
 "nbformat": 4,
 "nbformat_minor": 5
}
