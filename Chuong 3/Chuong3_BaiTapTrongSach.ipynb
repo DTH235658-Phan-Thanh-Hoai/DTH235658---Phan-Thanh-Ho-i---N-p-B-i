{
 "cells": [
  {
   "cell_type": "markdown",
   "id": "c8294b60",
   "metadata": {},
   "source": [
    "# CHƯƠNG 3 BÀI TẬP TRONG SÁCH"
   ]
  },
  {
   "cell_type": "markdown",
   "id": "ab1418a5",
   "metadata": {},
   "source": [
    "## BÀI 1"
   ]
  },
  {
   "cell_type": "code",
   "execution_count": null,
   "id": "1edfa2f8",
   "metadata": {},
   "outputs": [],
   "source": [
    "vao = input(\"Vào: \")\n",
    "print(\"Ra:\", vao.capitalize())"
   ]
  },
  {
   "cell_type": "markdown",
   "id": "1fa12856",
   "metadata": {},
   "source": [
    "## BÀI 2"
   ]
  },
  {
   "cell_type": "code",
   "execution_count": null,
   "id": "c4634f41",
   "metadata": {},
   "outputs": [],
   "source": [
    "s = input(\"Nhập vào một chuỗi: \")\n",
    "print(\"Chiều dài chuỗi:\", len(s))\n",
    "print(\"Ký tự đầu:\", s[0])\n",
    "print(\"Ký tự cuối:\", s[-1])\n",
    "\n",
    "i = int(input(\"Nhập vị trí bắt đầu: \"))\n",
    "j = int(input(\"Nhập vị trí kết thúc: \"))\n",
    "print(\"Chuỗi con từ i đến j:\", s[i:j+1])\n"
   ]
  },
  {
   "cell_type": "markdown",
   "id": "de5e66e2",
   "metadata": {},
   "source": [
    "## BÀI 3"
   ]
  },
  {
   "cell_type": "code",
   "execution_count": null,
   "id": "07549cc2",
   "metadata": {},
   "outputs": [],
   "source": [
    "def sinh_nhi_phan(n, s=\"\"):\n",
    "    if len(s) == n:\n",
    "        print(s)\n",
    "    else:\n",
    "        sinh_nhi_phan(n, s + \"0\")\n",
    "        sinh_nhi_phan(n, s + \"1\")\n",
    "\n",
    "n = int(input(\"Nhập n: \"))\n",
    "sinh_nhi_phan(n)\n"
   ]
  },
  {
   "cell_type": "markdown",
   "id": "8df6a072",
   "metadata": {},
   "source": [
    "## BÀI 4"
   ]
  },
  {
   "cell_type": "code",
   "execution_count": null,
   "id": "0a548f7f",
   "metadata": {},
   "outputs": [],
   "source": [
    "import random\n",
    "import string\n",
    "\n",
    "def tao_chuoi(n):\n",
    "    return ''.join(random.choice(string.ascii_letters + string.digits) for _ in range(n))\n",
    "\n",
    "def dao_nguoc(s):\n",
    "    return s[::-1]\n",
    "\n",
    "def dem_chu_so(s):\n",
    "    return sum(c.isdigit() for c in s)\n",
    "\n",
    "n = int(input(\"Nhập độ dài chuỗi: \"))\n",
    "s = tao_chuoi(n)\n",
    "print(\"Chuỗi ngẫu nhiên:\", s)\n",
    "print(\"Đảo ngược:\", dao_nguoc(s))\n",
    "print(\"Số lượng chữ số:\", dem_chu_so(s))\n"
   ]
  },
  {
   "cell_type": "markdown",
   "id": "478725b8",
   "metadata": {},
   "source": [
    "## BÀI 5"
   ]
  },
  {
   "cell_type": "code",
   "execution_count": null,
   "id": "227dca1c",
   "metadata": {},
   "outputs": [],
   "source": [
    "s = input(\"Nhập chuỗi: \")\n",
    "if s == s[::-1]:\n",
    "    print(\"Chuỗi đối xứng.\")\n",
    "else:\n",
    "    print(\"Không phải chuỗi đối xứng.\")\n"
   ]
  },
  {
   "cell_type": "markdown",
   "id": "9892e4be",
   "metadata": {},
   "source": [
    "## BÀI 6"
   ]
  },
  {
   "cell_type": "code",
   "execution_count": null,
   "id": "05873bce",
   "metadata": {},
   "outputs": [],
   "source": [
    "n = int(input(\"Nhập số lượng chuỗi: \"))\n",
    "ds = [input(f\"Chuỗi {i+1}: \") for i in range(n)]\n",
    "chung = set(ds[0])\n",
    "for s in ds[1:]:\n",
    "    chung &= set(s)\n",
    "\n",
    "print(\"Ký tự chung:\", ''.join(chung))\n"
   ]
  },
  {
   "cell_type": "markdown",
   "id": "7cde560c",
   "metadata": {},
   "source": [
    "## BÀI 7"
   ]
  },
  {
   "cell_type": "code",
   "execution_count": null,
   "id": "33883a08",
   "metadata": {},
   "outputs": [],
   "source": [
    "s = input(\"Nhập chuỗi S: \")\n",
    "i = int(input(\"Nhập vị trí i: \"))\n",
    "kytu = input(\"Nhập ký tự cần chèn: \")\n",
    "s_moi = s[:i] + kytu + s[i:]\n",
    "print(\"Chuỗi sau khi chèn:\", s_moi)"
   ]
  },
  {
   "cell_type": "markdown",
   "id": "1c08e647",
   "metadata": {},
   "source": [
    "## BÀI 8"
   ]
  },
  {
   "cell_type": "code",
   "execution_count": null,
   "id": "d7bb5c08",
   "metadata": {},
   "outputs": [],
   "source": [
    "s1 = input(\"Nhập chuỗi s1: \")\n",
    "s2 = input(\"Nhập chuỗi s2: \")\n",
    "\n",
    "pos = s1.find(s2)\n",
    "if pos != -1:\n",
    "    print(\"s2 xuất hiện trong s1 tại vị trí:\", pos)\n",
    "else:\n",
    "    print(\"Không tìm thấy.\")\n"
   ]
  },
  {
   "cell_type": "markdown",
   "id": "de2962f0",
   "metadata": {},
   "source": [
    "## BÀI 9"
   ]
  },
  {
   "cell_type": "code",
   "execution_count": null,
   "id": "c2c009ed",
   "metadata": {},
   "outputs": [],
   "source": [
    "s = input(\"Nhập CCCD: \")\n",
    "if s.isdigit() and len(s) == 12:\n",
    "    print(\"CCCD hợp lệ\")\n",
    "else:\n",
    "    print(\"CCCD không hợp lệ\")"
   ]
  },
  {
   "cell_type": "markdown",
   "id": "20bfa4c5",
   "metadata": {},
   "source": [
    "## BÀI 10"
   ]
  },
  {
   "cell_type": "code",
   "execution_count": null,
   "id": "16c57619",
   "metadata": {},
   "outputs": [],
   "source": [
    "s = input(\"Nhập email: \")\n",
    "if \"@\" in s and \".\" in s:\n",
    "    phan1, phan2 = s.split(\"@\", 1)\n",
    "    if \".\" in phan2:\n",
    "        ten_mien, duoi = phan2.split(\".\", 1)\n",
    "        if phan1 and ten_mien and duoi:\n",
    "            print(\"Email hợp lệ\")\n",
    "        else:\n",
    "            print(\"Email không hợp lệ\")\n",
    "    else:\n",
    "        print(\"Email không hợp lệ\")\n",
    "else:\n",
    "    print(\"Email không hợp lệ\")\n"
   ]
  },
  {
   "cell_type": "markdown",
   "id": "1765206c",
   "metadata": {},
   "source": [
    "## BÀI 11"
   ]
  },
  {
   "cell_type": "code",
   "execution_count": null,
   "id": "cf3e00c3",
   "metadata": {},
   "outputs": [],
   "source": [
    "ds = input(\"Nhập dãy số, cách nhau bởi dấu ; : \")\n",
    "so = list(map(int, ds.split(\";\")))\n",
    "\n",
    "print(\"Các số trên từng dòng:\")\n",
    "for x in so:\n",
    "    print(x)\n",
    "\n",
    "print(\"Số chẵn:\", sum(1 for x in so if x % 2 == 0))\n",
    "print(\"Số lẻ:\", sum(1 for x in so if x % 2 == 1))\n",
    "\n",
    "def nguyen_to(n):\n",
    "    if n < 2: return False\n",
    "    for i in range(2, int(n**0.5)+1):\n",
    "        if n % i == 0: return False\n",
    "    return True\n",
    "\n",
    "print(\"Số nguyên tố:\", sum(1 for x in so if nguyen_to(x)))\n",
    "print(\"Trung bình:\", sum(so)/len(so))\n"
   ]
  },
  {
   "cell_type": "markdown",
   "id": "cfda1f18",
   "metadata": {},
   "source": [
    "## BÀI 12"
   ]
  },
  {
   "cell_type": "code",
   "execution_count": null,
   "id": "75c09ed1",
   "metadata": {},
   "outputs": [],
   "source": [
    "s = input(\"Nhập chuỗi: \")\n",
    "print(\"Chữ in hoa:\", sum(c.isupper() for c in s))\n",
    "print(\"Chữ in thường:\", sum(c.islower() for c in s))\n",
    "print(\"Chữ số:\", sum(c.isdigit() for c in s))\n",
    "print(\"Ký tự đặc biệt:\", sum(not c.isalnum() and not c.isspace() for c in s))\n",
    "print(\"Khoảng trắng:\", sum(c.isspace() for c in s))\n",
    "\n",
    "nguyen_am = \"aeiouAEIOU\"\n",
    "print(\"Nguyên âm:\", sum(c in nguyen_am for c in s))\n",
    "print(\"Phụ âm:\", sum(c.isalpha() and c not in nguyen_am for c in s))\n"
   ]
  },
  {
   "cell_type": "markdown",
   "id": "67ff1079",
   "metadata": {},
   "source": [
    "## BÀI 13"
   ]
  },
  {
   "cell_type": "code",
   "execution_count": null,
   "id": "ea962db7",
   "metadata": {},
   "outputs": [],
   "source": [
    "import re\n",
    "\n",
    "def NegativeNumberInStrings(s):\n",
    "    return re.findall(r\"-\\d+\", s)\n",
    "\n",
    "s = input(\"Nhập chuỗi: \")\n",
    "print(\"Các số nguyên âm:\", NegativeNumberInStrings(s))\n"
   ]
  },
  {
   "cell_type": "markdown",
   "id": "63dd6f33",
   "metadata": {},
   "source": [
    "## BÀI 14"
   ]
  },
  {
   "cell_type": "code",
   "execution_count": null,
   "id": "54b6e97d",
   "metadata": {},
   "outputs": [],
   "source": [
    "s = input(\"Nhập họ tên: \").strip()\n",
    "s = \" \".join(s.split())\n",
    "s = s.title()\n",
    "print(\"Chuẩn hóa:\", s)\n"
   ]
  },
  {
   "cell_type": "markdown",
   "id": "a6bfe786",
   "metadata": {},
   "source": [
    "## BÀI 15"
   ]
  },
  {
   "cell_type": "code",
   "execution_count": null,
   "id": "48b2f63b",
   "metadata": {},
   "outputs": [],
   "source": [
    "import re\n",
    "\n",
    "ds = input(\"Nhập các mật khẩu (cách nhau bởi dấu ,): \").split(\",\")\n",
    "hop_le = []\n",
    "for mk in ds:\n",
    "    if (6 <= len(mk) <= 12 and\n",
    "        re.search(r\"[a-z]\", mk) and\n",
    "        re.search(r\"[A-Z]\", mk) and\n",
    "        re.search(r\"\\d\", mk) and\n",
    "        re.search(r\"[@#$]\", mk)):\n",
    "        hop_le.append(mk)\n",
    "\n",
    "print(\"Mật khẩu hợp lệ:\", \",\".join(hop_le))\n"
   ]
  }
 ],
 "metadata": {
  "kernelspec": {
   "display_name": "Python 3",
   "language": "python",
   "name": "python3"
  },
  "language_info": {
   "codemirror_mode": {
    "name": "ipython",
    "version": 3
   },
   "file_extension": ".py",
   "mimetype": "text/x-python",
   "name": "python",
   "nbconvert_exporter": "python",
   "pygments_lexer": "ipython3",
   "version": "3.13.7"
  }
 },
 "nbformat": 4,
 "nbformat_minor": 5
}
